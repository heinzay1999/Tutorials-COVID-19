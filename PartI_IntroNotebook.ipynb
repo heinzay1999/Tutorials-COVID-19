{
 "cells": [
  {
   "cell_type": "markdown",
   "metadata": {},
   "source": [
    "# Tutorial #1: \n",
    "\n",
    "Welcome to the IronHacks workspace and Juptyer lab. In this first notebook, we will explore the basics of Juptyer Notebooks. We assume you have never used Juptyer Notebooks before! \n",
    "\n",
    "> Before you get started: This tutorial will take you about 10 min to complete and you should be able write code in R right after! \n",
    "\n",
    "**Our goal**: Help you getting started with .ipnb notebooks as this will be an important format to work with during the IronHacks competition 2020! So if you have never used a notebook before this might something you want try using!\n",
    "\n",
    "**Jupyter Notebooks**: \n",
    "The document you are currently looking at in your lab is a `.ipynb` Notebook or a Juptyer notebook. It is like document. You can write raw text it, but also code, and markdown. \n",
    "In addition, you can use it to query database, display charts etc. So it is truely amazing! We will start with a Juptyer Notebook to introduce to the Juptyer lab as this will be your dominant working mode, and we hope you will like it.\n",
    "\n",
    "> Hint: This text is formated in Markdown and written in Markdown language in a cell! \n",
    "\n",
    "Jupiter Notebooks in the IronHacks workspace support R, Python, and also Julia. However, for this competition, we only allow R and Python, simply because those are the languages were we have the most packages available to support statistical modeling like th eone needed for this IronHacks\n",
    "\n",
    "**Jupyter Lab**: \n",
    "We assume you have loaded this notebook in the IronHacks workspace. Our workspace is a so called Juptyer lab. JupyterLab 1.0: Jupyter’s Next-Generation Notebook interface! JupyterLab is a web-based interactive development environment for Jupyter notebooks, code, and data. It support a wide range of workflows in data science, scientific computing, and machine learning. The Notebook is a central part of it. In addition to it also offers a Console, a terminal, an editor. In addition, to notebooks is allows you to load a range of file types: Markdown (`.md`), text (`.txt`), json (`.json`), htlm (`.htlm`), or csv/tables (`.csv`) etc. In this hack you will primarily work with the notebook and query BigQuery to get access to data (this will follow in **Part II** of our tutorial sessions). \n",
    "\n",
    "Here you can find an official video about [Jupyterlab](https://www.youtube.com/watch?time_continue=260&v=A5YyoCKxEOU&feature=emb_logo)! \n"
   ]
  },
  {
   "cell_type": "markdown",
   "metadata": {},
   "source": [
    "## Section 1: Everthing is a cell! \n",
    "Jupyter Notebooks are organized as a set of **cell**. Each cell can contain different types of content: like Python code , images or even human readable text (markdown), like the one you're currently reading.\n",
    "We have created a few empty cells for you so that you can see them! "
   ]
  },
  {
   "cell_type": "code",
   "execution_count": null,
   "metadata": {},
   "outputs": [],
   "source": []
  },
  {
   "cell_type": "code",
   "execution_count": null,
   "metadata": {},
   "outputs": [],
   "source": []
  },
  {
   "cell_type": "code",
   "execution_count": null,
   "metadata": {},
   "outputs": [],
   "source": []
  },
  {
   "cell_type": "code",
   "execution_count": null,
   "metadata": {},
   "outputs": [],
   "source": []
  },
  {
   "cell_type": "markdown",
   "metadata": {},
   "source": [
    "> This is another cell but it is not empty and it contains Markdown language!"
   ]
  },
  {
   "cell_type": "raw",
   "metadata": {},
   "source": [
    "THIS IS A RAW TEXT CELL! CLICK ON ME!!!"
   ]
  },
  {
   "cell_type": "markdown",
   "metadata": {},
   "source": [
    "> You can enter a cell by clicking on it with a mouse or by simply hitting `return`! So go ahead and click on the cells above! You see in the status bar that one is a markdown cell and the other one is a raw code file!"
   ]
  },
  {
   "cell_type": "markdown",
   "metadata": {},
   "source": [
    "<img src=\"https://raw.githubusercontent.com/ironhacks/Tutorials-COVID-19/master/image1.png?token=AC7DAYZY75YYFWQJZQVQV6C7FR3AG\"\n",
    "     alt=\" icon\"\n",
    "     style=\"float: left; margin-right: 10px;\" />"
   ]
  },
  {
   "cell_type": "markdown",
   "metadata": {},
   "source": [
    "> To execute a cell you simply press on the little play icon in the menu bar or run `shift` + `return`!"
   ]
  },
  {
   "cell_type": "markdown",
   "metadata": {},
   "source": [
    "<img src=\"https://raw.githubusercontent.com/ironhacks/Tutorials-COVID-19/master/image2.png?token=AC7DAY6VY6MLVIPASV5CMGS7FR3OM\"\n",
    "     alt=\" icon\"\n",
    "     style=\"float: left; margin-right: 10px;\" />"
   ]
  },
  {
   "cell_type": "markdown",
   "metadata": {},
   "source": [
    "### Let's try this now\n",
    "Jupyter notebooks are optimized for an efficient workflow. There are many keyboard shortcuts that will let you interact with your documents, run code and make other changes; mastering these shortcuts will speed up your work. For example, there are two shortcuts to execute a cell:\n",
    "\n",
    "1. `shift + return`: Run cell and advance to the next one.\n",
    "2. `ctrl  + return`: Run the cell but don't change focus.\n",
    "\n",
    "\n",
    "Try them with the following cell:"
   ]
  },
  {
   "cell_type": "code",
   "execution_count": 67,
   "metadata": {},
   "outputs": [
    {
     "data": {
      "text/html": [
       "4"
      ],
      "text/latex": [
       "4"
      ],
      "text/markdown": [
       "4"
      ],
      "text/plain": [
       "[1] 4"
      ]
     },
     "metadata": {},
     "output_type": "display_data"
    }
   ],
   "source": [
    "2+2 #this is a code cell"
   ]
  },
  {
   "cell_type": "code",
   "execution_count": 68,
   "metadata": {},
   "outputs": [
    {
     "data": {
      "text/html": [
       "4"
      ],
      "text/latex": [
       "4"
      ],
      "text/markdown": [
       "4"
      ],
      "text/plain": [
       "[1] 4"
      ]
     },
     "metadata": {},
     "output_type": "display_data"
    }
   ],
   "source": [
    "2^2"
   ]
  },
  {
   "cell_type": "markdown",
   "metadata": {},
   "source": [
    "## And a few more for you\n",
    "3. `esc`: Enter command mode\n",
    "4. `return`: Enter edit mode\n",
    "5. `A`: Insert cell above\n",
    "6. `B`: Insert cell below\n",
    "\n",
    "You can access a cheatsheet for Juptyer Notebook [here](https://raw.githubusercontent.com/ironhacks/Tutorials-COVID-19/master/Shortcuts.png?token=AC7DAY2TYDGKRV4CIQBVAG27FRYUG)\n",
    "\n",
    "\n"
   ]
  },
  {
   "cell_type": "markdown",
   "metadata": {},
   "source": [
    "> So now it time to play around a little with it! "
   ]
  },
  {
   "cell_type": "markdown",
   "metadata": {},
   "source": [
    "# Section 2: Working with code in Jupypter Notebook"
   ]
  },
  {
   "cell_type": "raw",
   "metadata": {},
   "source": [
    "#library(ggplot2) (ggplot2 would help making nicer plots)"
   ]
  },
  {
   "cell_type": "code",
   "execution_count": 72,
   "metadata": {},
   "outputs": [],
   "source": [
    "x=seq(from = 0, to =10,length.out = 500) ## Generating a sequence of numbers; a generic function in R\n",
    "y=cumsum(rnorm(500,mean=5,sd=50)) ##generating a random normal distribution and cumulating it (mean 5, sd 50)"
   ]
  },
  {
   "cell_type": "code",
   "execution_count": 73,
   "metadata": {},
   "outputs": [
    {
     "data": {
      "image/png": "[encoded data removed]",
      "text/plain": [
       "plot without title"
      ]
     },
     "metadata": {
      "image/png": {
       "height": 420,
       "width": 420
      },
      "text/plain": {
       "height": 420,
       "width": 420
      }
     },
     "output_type": "display_data"
    }
   ],
   "source": [
    "plot(x,y1) #plotting using the base functionality of R"
   ]
  }
 ],
 "metadata": {
  "kernelspec": {
   "display_name": "R",
   "language": "R",
   "name": "ir"
  },
  "language_info": {
   "codemirror_mode": "r",
   "file_extension": ".r",
   "mimetype": "text/x-r-source",
   "name": "R",
   "pygments_lexer": "r",
   "version": "3.6.3"
  }
 },
 "nbformat": 4,
 "nbformat_minor": 4
}
